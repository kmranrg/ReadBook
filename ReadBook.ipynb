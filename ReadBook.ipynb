{
  "nbformat": 4,
  "nbformat_minor": 0,
  "metadata": {
    "colab": {
      "name": "ReadBook.ipynb",
      "provenance": []
    },
    "kernelspec": {
      "name": "python3",
      "display_name": "Python 3"
    },
    "language_info": {
      "name": "python"
    }
  },
  "cells": [
    {
      "cell_type": "code",
      "metadata": {
        "colab": {
          "base_uri": "https://localhost:8080/"
        },
        "id": "dJQ1RClMkjwc",
        "outputId": "2aac6b6a-17e1-4f16-e04b-3d41357b713a"
      },
      "source": [
        "# installing dependencies\n",
        "\n",
        "!pip install PyPDF2\n",
        "!pip install gtts\n",
        "!pip install mutagen\n",
        "\n"
      ],
      "execution_count": 24,
      "outputs": [
        {
          "output_type": "stream",
          "text": [
            "Requirement already satisfied: PyPDF2 in /usr/local/lib/python3.7/dist-packages (1.26.0)\n",
            "Requirement already satisfied: gtts in /usr/local/lib/python3.7/dist-packages (2.2.3)\n",
            "Requirement already satisfied: requests in /usr/local/lib/python3.7/dist-packages (from gtts) (2.23.0)\n",
            "Requirement already satisfied: click in /usr/local/lib/python3.7/dist-packages (from gtts) (7.1.2)\n",
            "Requirement already satisfied: six in /usr/local/lib/python3.7/dist-packages (from gtts) (1.15.0)\n",
            "Requirement already satisfied: urllib3!=1.25.0,!=1.25.1,<1.26,>=1.21.1 in /usr/local/lib/python3.7/dist-packages (from requests->gtts) (1.24.3)\n",
            "Requirement already satisfied: idna<3,>=2.5 in /usr/local/lib/python3.7/dist-packages (from requests->gtts) (2.10)\n",
            "Requirement already satisfied: chardet<4,>=3.0.2 in /usr/local/lib/python3.7/dist-packages (from requests->gtts) (3.0.4)\n",
            "Requirement already satisfied: certifi>=2017.4.17 in /usr/local/lib/python3.7/dist-packages (from requests->gtts) (2021.5.30)\n",
            "Requirement already satisfied: mutagen in /usr/local/lib/python3.7/dist-packages (1.45.1)\n"
          ],
          "name": "stdout"
        }
      ]
    },
    {
      "cell_type": "code",
      "metadata": {
        "id": "WnPjIpKQloZr"
      },
      "source": [
        "# importing libraries\n",
        "\n",
        "import PyPDF2\n",
        "from gtts import gTTS\n",
        "import IPython\n",
        "import time\n",
        "import mutagen\n",
        "from mutagen.mp3 import MP3"
      ],
      "execution_count": 25,
      "outputs": []
    },
    {
      "cell_type": "code",
      "metadata": {
        "colab": {
          "base_uri": "https://localhost:8080/"
        },
        "id": "XP1kXNI6lVfM",
        "outputId": "f63b6f52-7d57-452c-b236-10d23867feee"
      },
      "source": [
        "# reading the pdf and printing the total no of pages\n",
        "\n",
        "book=open('/content/my_stories.pdf','rb')\n",
        "Reader= PyPDF2.PdfFileReader(book)\n",
        "print(Reader.numPages)"
      ],
      "execution_count": 26,
      "outputs": [
        {
          "output_type": "stream",
          "text": [
            "4\n"
          ],
          "name": "stdout"
        }
      ]
    },
    {
      "cell_type": "code",
      "metadata": {
        "colab": {
          "base_uri": "https://localhost:8080/",
          "height": 470
        },
        "id": "86mna5A3mBC8",
        "outputId": "18f259fc-bfa3-4fb9-c230-c4a9a2845b5a"
      },
      "source": [
        "# listen all the pages\n",
        "\n",
        "\n",
        "print(Reader.numPages)\n",
        "\n",
        "pg_no=0\n",
        "while pg_no<(Reader.numPages):\n",
        "    page=Reader.getPage(pg_no)\n",
        "    text=page.extractText()\n",
        "    # text=text.replace('\\n','')\n",
        "      \n",
        "    print(text)\n",
        "    voice=gTTS(text=text,lang='en',slow=False)\n",
        "    file=\"page_\"+str(pg_no)+\".mp3\"\n",
        "    voice.save(file)\n",
        "    loc=\"/content/\"+file\n",
        "    audio=MP3(loc)\n",
        "    t=audio.info.length\n",
        "    \n",
        "    \n",
        "    print(\"Reading Page \"+str(pg_no))\n",
        "    pg_no=pg_no+1\n",
        "    IPython.display.display(IPython.display.Audio(data=loc,autoplay=True))\n",
        "    time.sleep(t)\n",
        "    "
      ],
      "execution_count": 27,
      "outputs": [
        {
          "output_type": "stream",
          "text": [
            "4\n",
            "Moral Quotes\n",
            "\n",
            "Reading Page 0\n"
          ],
          "name": "stdout"
        },
        {
          "output_type": "display_data",
          "data": {
            "text/html": [
              "\n",
              "                <audio controls=\"controls\" autoplay=\"autoplay\">\n",
              "                    <source src=\"data:audio/mpeg;base64,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\" type=\"audio/mpeg\" />\n",
              "                    Your browser does not support the audio element.\n",
              "                </audio>\n",
              "              "
            ],
            "text/plain": [
              "<IPython.lib.display.Audio object>"
            ]
          },
          "metadata": {
            "tags": []
          }
        },
        {
          "output_type": "stream",
          "text": [
            "Always help others.\n",
            "\n",
            "Reading Page 1\n"
          ],
          "name": "stdout"
        },
        {
          "output_type": "display_data",
          "data": {
            "text/html": [
              "\n",
              "                <audio controls=\"controls\" autoplay=\"autoplay\">\n",
              "                    <source src=\"data:audio/mpeg;base64,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\" type=\"audio/mpeg\" />\n",
              "                    Your browser does not support the audio element.\n",
              "                </audio>\n",
              "              "
            ],
            "text/plain": [
              "<IPython.lib.display.Audio object>"
            ]
          },
          "metadata": {
            "tags": []
          }
        },
        {
          "output_type": "stream",
          "text": [
            "Never give up.\n",
            "\n",
            "Reading Page 2\n"
          ],
          "name": "stdout"
        },
        {
          "output_type": "display_data",
          "data": {
            "text/html": [
              "\n",
              "                <audio controls=\"controls\" autoplay=\"autoplay\">\n",
              "                    <source src=\"data:audio/mpeg;base64,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\" type=\"audio/mpeg\" />\n",
              "                    Your browser does not support the audio element.\n",
              "                </audio>\n",
              "              "
            ],
            "text/plain": [
              "<IPython.lib.display.Audio object>"
            ]
          },
          "metadata": {
            "tags": []
          }
        },
        {
          "output_type": "stream",
          "text": [
            "Be honest.\n",
            "\n",
            "Reading Page 3\n"
          ],
          "name": "stdout"
        },
        {
          "output_type": "display_data",
          "data": {
            "text/html": [
              "\n",
              "                <audio controls=\"controls\" autoplay=\"autoplay\">\n",
              "                    <source src=\"data:audio/mpeg;base64,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\" type=\"audio/mpeg\" />\n",
              "                    Your browser does not support the audio element.\n",
              "                </audio>\n",
              "              "
            ],
            "text/plain": [
              "<IPython.lib.display.Audio object>"
            ]
          },
          "metadata": {
            "tags": []
          }
        }
      ]
    }
  ]
}